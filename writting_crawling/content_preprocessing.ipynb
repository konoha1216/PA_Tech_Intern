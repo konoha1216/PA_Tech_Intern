{
 "cells": [
  {
   "cell_type": "markdown",
   "metadata": {},
   "source": [
    "## 正文部分"
   ]
  },
  {
   "cell_type": "markdown",
   "metadata": {},
   "source": [
    "### 99作文网"
   ]
  },
  {
   "cell_type": "code",
   "execution_count": 2,
   "metadata": {},
   "outputs": [],
   "source": [
    "zuowen99 = []\n",
    "with open('zuowen99_dict.txt','r') as f:\n",
    "    for line in f.readlines():\n",
    "        zuowen99.append(line)"
   ]
  },
  {
   "cell_type": "code",
   "execution_count": 3,
   "metadata": {},
   "outputs": [
    {
     "data": {
      "text/plain": [
       "3360"
      ]
     },
     "execution_count": 3,
     "metadata": {},
     "output_type": "execute_result"
    }
   ],
   "source": [
    "len(zuowen99)"
   ]
  },
  {
   "cell_type": "code",
   "execution_count": 5,
   "metadata": {},
   "outputs": [
    {
     "data": {
      "text/plain": [
       "\"{'abs': '\\\\r\\\\n年轻的心不懂世事的复杂，任一个个问号充满思考的空间，时间或许给出过一些回应，无数的疑问岁月仍不曾解答。曾经把问题写在沙上，曾经把问号记在心里，曾经站在山谷大声追问那无所谓有也无所谓无的冥冥众神，答案是否会在风中飘荡？\\\\r\\\\n翻开历史典籍，仿佛站在长风当中凝望世事变迁如白云苍狗，问号在心中徘徊不去。眼见他起高楼，眼见他宴宾客，眼见他楼塌了，落得一片白茫茫大地好干净，繁华美眷都付了似水流年，从此不留痕迹。物欲横流，遮盖了对本心的诉求，淹没了理智和思考的萌芽。\\\\r\\\\n心中的问号在问，为什么身居高位的统治者，每每忘记了民间疾苦？“朱门酒肉臭，路有冻死骨”，他们只知道享乐而不懂得今天的富足是以什么为代价，只知道鱼肉百姓而不明白“水能载舟，亦能覆舟”，失去了群众的自己不过是空中楼阁。\\\\r\\\\n心中的问号在问，为什么不敢面对真实？高高在上的人们沉迷在自己编织的迷梦当中，把真实隔离在认知范围之外。他们“防民之口，甚于防川”，害怕真相却不知道真正的灭亡开始于自我欺骗。欺骗比改变更容易，他们宁可压制民间的声音，用一戳即破的谎言蒙蔽他们，也不肯让他们生存的世界变得美好一些。励精图治太难，声色犬马多么轻松愉快。从古至今，太多的史书都羞于承认错误，史官害怕责罚，只能用虚伪的繁荣自欺欺人，写真话的人被投入了文字狱，留下皇帝的新装大行其道。\\\\r\\\\n心中的问号在问，为什么，为什么历史总是重复着相似的悲剧，忘记了以史为鉴？人们用粗暴代替了道理，用强制代替了教化，不去修补千疮百孔的大厦，却对一切反对的言辞和举动强加镇压。杜牧在《阿房宫赋》中写道，“秦人不暇自哀，而后人哀之；后人哀之而不鉴之，亦使后人而复哀后人也。”即使是在千年后的唐朝，权势的斗争也没有停止。当局者迷，在那些沉迷于歌舞升平的官吏当中，或许没有人想到，一个曾经富足强大的朝代，也会有“国破山河在”的一天。就在杜牧去世后的几十年，唐朝已经不复辉煌，陷入了诸侯割据的混乱动荡局面当中。\\\\r\\\\n心中的问号在风中飘荡，沉默的书卷无言，不能给我答案。有谁助我一臂之力，消除这些问号？', 'title': '我心中的问号', 'pmid': '1'}\\n\""
      ]
     },
     "execution_count": 5,
     "metadata": {},
     "output_type": "execute_result"
    }
   ],
   "source": [
    "zuowen99[0]"
   ]
  },
  {
   "cell_type": "markdown",
   "metadata": {},
   "source": [
    "消除分段后产生的list前面的空格"
   ]
  },
  {
   "cell_type": "code",
   "execution_count": 28,
   "metadata": {},
   "outputs": [],
   "source": [
    "def remove_void(test):\n",
    "    start = 0\n",
    "    for i in range(len(test)):\n",
    "        if test[i] == '':\n",
    "            start+=1\n",
    "    test = test[start:]\n",
    "    return test"
   ]
  },
  {
   "cell_type": "code",
   "execution_count": 33,
   "metadata": {},
   "outputs": [],
   "source": [
    "q = remove_void(eval(zuowen99[1554].strip('\\n'))['abs'].split('\\r\\n'))"
   ]
  },
  {
   "cell_type": "code",
   "execution_count": 34,
   "metadata": {},
   "outputs": [
    {
     "data": {
      "text/plain": [
       "['换个角度看事情_初三议论文800字（1）',\n",
       " '同样的一个问题，却得出了四个不一样的而且全部都有道理的正确的答案，奇怪吗？',\n",
       " '一点也不。',\n",
       " '真的，只要你善于换个角度看问题，你会发现：其实，好多的问题，答案都是丰富多彩的。',\n",
       " '记得《读者》杂志上登过关于这样一个小女孩的故事。有一天，小女孩心爱的波斯猫病死了，她站在窗子前边看佣人们土葬她可爱的小猫，伤心得大哭起来。小女孩的外祖父走过来，为她打开另一扇窗子，说：“孩子，你为什么不看看这扇窗子外有什么呢？”小女孩就走到另一扇窗子前，这时她看到的是家里的园丁正为那些漂亮的玫瑰修剪枝叶。小女孩很快忘记刚才的悲痛，快乐得笑了起来。其实，老人也就是善于从另一个角度看问题，并教会他的外孙女看问题换个角度而获取快乐的。',\n",
       " '世界是千变万化的，生活也是千变万化的，在现实生活中，我们常常会遇到这样或那样的疑问。前进的道路，不是惟用快乐、胜利铺起来的，当你遇到疑问的时候，你仿徨、迷惘，你试着换个角度来理解了没有？当你遭遇挫折的时候，你焦虑不安，你试着换个角度来看待了没有？当你身陷困境的时候，你甚至悲观、失望，你换个角度来解决了没有？所有所有的疑问都是渺小的，所有所有的挫折只是短暂的，所有所有的困境都不是永恒的。当你身遇这些的时候，请试着换个角度来解决吧，这些原来不属于你的疑问、挫折和困境。',\n",
       " '春秋战国时期，吴越争霸，起初吴国打败了越国，但越王勾践并没有因此意志消沉，他卧薪尝胆，苦练心志，把失败当作暂时的结果，最后终于消灭了吴国。',\n",
       " '是什么让小女孩快乐了起来？是什么让越国夺得了最后的胜利？是换角度思维。生活原本丰富多彩，答案也亦丰富多彩，只要你善于换个角度看问题。',\n",
       " '的确，你不可能改变生命的长度，但你可以拓展它的宽度，让你的生命更有意义；',\n",
       " '你不可能改变自己的容貌，但你可以展现真心的笑容，让别人因你而快乐；',\n",
       " '你不能改变天气的好坏，但你可以左右自己的心情，使你一天充满阳光；',\n",
       " '你不能处处成功，但你可以把失败看作成功路上的一个小小骚站。',\n",
       " '其实，生活原本丰富多彩，答案也亦丰富多彩，只要你善于换个角度看问题。',\n",
       " '换个角度看事情_初三议论文800字（2）',\n",
       " '换个角度看问题——我有人生。',\n",
       " '常常听到有人抱怨自己容貌不是国色天香，抱怨今天天气糟糕透了，抱怨自己总不能事事顺心……刚一听，还真认为上天对他太不公了，但仔细一想，你为什么不换个角度看问题呢？容貌天生你不能改变，但你为什么不想一想展现笑容，说不定会美丽一点；天气不能改变，但你能改变心情；你不能样样顺利，但可以事事尽心，你这样一想是不是心情好很多？',\n",
       " '由此我想到了很多……',\n",
       " '人生路上难免有许多的不尽如人意，但我们不要死钻牛角尖，换个角度看问题，说不定我们会有意料不到的收获。',\n",
       " '闻名沪上的劳动模范徐虎，只是一名普通的水电工，换了别人在他这个岗位上，他或许会想：我再怎么说总有些才干，却叫我给别人修水管、修马桶，简直是埋没人才。为此而整天大呼没遇伯乐。而徐虎却从小事上做起——“辛苦我一人，方便千万家”，徐虎从这个角度上看到了自己的价值，所以他安心于做一名普通的水电工。这是他换个角度看问题的收获。',\n",
       " '或许你会说徐虎太安于平凡，现在的社会要的是高学历人才，人要向高处爬，但也请你换个角度想一想，如果每个人都向上爬，那么这些老百姓“柴、米、油、盐”，社会小事谁去做呢？所以说你也别老给自己订什么高额标准，要求自己冲刺到第几，你只要想自己尽力也就行了；你呢也别总是想着去当高干、总裁、元帅……这些人固然是人类精英，拿破仑也曾说过“不想当元帅的士兵不是好士兵”，但毕竟不是人人都能成为元帅的。钱钟书先生没有获得诺贝尔奖，固然可惜，但你想钱老至少扬名中外学术界，这一点也可喜可贺。杨绛先生在《隐身衣》一文中说道：“假若是个萝卜，就要力求做一个水多肉脆的好萝卜，假如是白菜，就要做一棵瓷瓷实实的包心好白菜。”有很多人固然生活在平凡中，但在平凡中可以创造一个不平凡的自我，而不是暗自地埋怨。学会换个角度看问题，生活就变得更加美丽。']"
      ]
     },
     "execution_count": 34,
     "metadata": {},
     "output_type": "execute_result"
    }
   ],
   "source": [
    "q"
   ]
  },
  {
   "cell_type": "code",
   "execution_count": 65,
   "metadata": {},
   "outputs": [],
   "source": [
    "num = 0\n",
    "for zuowen in zuowen99:\n",
    "    zuowen.strip('\\n')\n",
    "    match = pattern.findall(zuowen)\n",
    "    if len(match) >= 2:\n",
    "        index = zuowen.find('pmid')\n",
    "        num+=1\n",
    "        print(zuowen[index:])\n",
    "        zuowen99.remove(zuowen)"
   ]
  },
  {
   "cell_type": "code",
   "execution_count": 66,
   "metadata": {},
   "outputs": [
    {
     "data": {
      "text/plain": [
       "3138"
      ]
     },
     "execution_count": 66,
     "metadata": {},
     "output_type": "execute_result"
    }
   ],
   "source": [
    "len(zuowen99)"
   ]
  },
  {
   "cell_type": "code",
   "execution_count": 77,
   "metadata": {},
   "outputs": [],
   "source": [
    "# 清除正文部分为nan的作文，反复删除直到num=0\n",
    "num = 0\n",
    "for zuowen in zuowen99:\n",
    "    if zuowen[8:11] == 'nan':\n",
    "        index = zuowen.find('pmid')\n",
    "        num+=1\n",
    "        print(zuowen[index:])\n",
    "        zuowen99.remove(zuowen)"
   ]
  },
  {
   "cell_type": "code",
   "execution_count": 78,
   "metadata": {},
   "outputs": [
    {
     "data": {
      "text/plain": [
       "0"
      ]
     },
     "execution_count": 78,
     "metadata": {},
     "output_type": "execute_result"
    }
   ],
   "source": [
    "num"
   ]
  },
  {
   "cell_type": "code",
   "execution_count": 79,
   "metadata": {},
   "outputs": [
    {
     "data": {
      "text/plain": [
       "3059"
      ]
     },
     "execution_count": 79,
     "metadata": {},
     "output_type": "execute_result"
    }
   ],
   "source": [
    "len(zuowen99)"
   ]
  },
  {
   "cell_type": "code",
   "execution_count": 82,
   "metadata": {},
   "outputs": [],
   "source": [
    "import re\n",
    "pattern = re.compile('[0-9]{3,4}字')\n",
    "import math\n",
    "new_zuowen99 = []\n",
    "num = 0\n",
    "for zuowen in zuowen99:\n",
    "    zuowen.strip('\\n')\n",
    "    match = pattern.findall(zuowen)\n",
    "    if len(match) >= 2:\n",
    "        index = zuowen.find('pmid')\n",
    "        num+=1\n",
    "        print(zuowen[index:])\n",
    "#         zuowen99.remove(zuowen)\n",
    "    zuowen_dict = eval(zuowen)\n",
    "    content = zuowen_dict['abs']\n",
    "    title = zuowen_dict['title']\n",
    "    pmid = zuowen_dict['pmid']\n",
    "    \n",
    "    content_list = remove_void(content.split('\\r\\n'))\n",
    "    \n",
    "    if (title in content_list[0]) and ('议论文' in content_list[0] or (len(content_list[0])-len(title)) < 5):\n",
    "        content_list = content_list[1:]\n",
    "    zuowen_dict['abs'] = content_list\n",
    "    new_zuowen99.append(zuowen_dict)    "
   ]
  },
  {
   "cell_type": "code",
   "execution_count": 115,
   "metadata": {},
   "outputs": [],
   "source": [
    "excess = ['支付宝','地址：','邮箱','联系电话','qq：','QQ：','qq:','QQ:','电话：','电话:','']\n",
    "num = 0\n",
    "for zuowen in new_zuowen99:\n",
    "    content = zuowen['abs']\n",
    "    for i in range(len(content)):\n",
    "        for ex in excess:\n",
    "            if ex in content[i]:\n",
    "                zuowen['abs'] = content[:i]\n",
    "                num+=1\n",
    "                continue"
   ]
  },
  {
   "cell_type": "code",
   "execution_count": 116,
   "metadata": {},
   "outputs": [],
   "source": [
    "with open('zuowen99_2.txt','w') as f:\n",
    "    for item in new_zuowen99:\n",
    "        f.write(str(item))\n",
    "        f.write('\\n')"
   ]
  },
  {
   "cell_type": "markdown",
   "metadata": {},
   "source": [
    "### 作文网"
   ]
  },
  {
   "cell_type": "markdown",
   "metadata": {},
   "source": [
    "### 中考网"
   ]
  },
  {
   "cell_type": "code",
   "execution_count": 934,
   "metadata": {},
   "outputs": [],
   "source": [
    "zhongkao = []\n",
    "with open('zhongkao.txt','r') as f:\n",
    "    for line in f.readlines():\n",
    "        zhongkao.append(line)"
   ]
  },
  {
   "cell_type": "code",
   "execution_count": 935,
   "metadata": {},
   "outputs": [
    {
     "data": {
      "text/plain": [
       "489"
      ]
     },
     "execution_count": 935,
     "metadata": {},
     "output_type": "execute_result"
    }
   ],
   "source": [
    "len(zhongkao)"
   ]
  },
  {
   "cell_type": "code",
   "execution_count": 936,
   "metadata": {},
   "outputs": [
    {
     "data": {
      "text/plain": [
       "\"{'abs': '\\\\n在透过无数次失败后又成功的体验，使我明白了一个道理，成功的背后，还埋藏着无数的失败，下面，是我其中的一个体验。\\\\n十岁时，我依然是个什么都不会的小姑娘。十岁时的夏天，我在大树下玩耍，妈妈走过来，对我说：“没事的话就学自行车吧，会很方便的。”没办法，母名如天命，不可违。由于畏于妈妈的棍子，只好照办。我拉来了自行车，战战栗栗地上了车座。好不容易上去了，却和大地母亲来了个热烈的拥抱，而且这种行为持续了两次，我索性不起来了。我哭着闹着：“我不学了。”妈妈见了，走过来，拉我起来，拍拍我身上的灰尘，对我说：“尝到失败的苦头了?没事的，失败是成功之母。许多名人不都是从失败中走过来的吗?\\\\n成功的背后要凝聚着许多的汗水，加油吧!”我似懂非懂，但重新骑在了自行车上面，妈妈坐在了我的后面让我大胆的骑，让我想想前面就是成功和鲜花，他们在等着我，我大胆的骑起来，成功了，一步两步，我骑了起来。妈妈对我说：“孩子，你成功了，你没有辜负失败，你向成功迈进了一步。”这个时候，我无比的自豪。\\\\n是啊!鲜花，少不了“汗水”的灌溉，成功的背后，自然少不了许多的失败。失败是成功之母，又有多少人明白这句话真正的道理。让我们在风雨中前进!\\\\n欢迎使用手机、平板等移动设备访问中考网，2019中考一路陪伴同行！>>点击查看', 'title': '成功的背后', 'pmid': '11814'}\\n\""
      ]
     },
     "execution_count": 936,
     "metadata": {},
     "output_type": "execute_result"
    }
   ],
   "source": [
    "zhongkao[0]"
   ]
  },
  {
   "cell_type": "code",
   "execution_count": 937,
   "metadata": {},
   "outputs": [],
   "source": [
    "# 这里没有这个问题\n",
    "num = 0\n",
    "for zuowen in zhongkao:\n",
    "    zuowen.strip('\\n')\n",
    "    match = pattern.findall(zuowen)\n",
    "    if len(match) >= 2:\n",
    "        index = zuowen.find('pmid')\n",
    "        num+=1\n",
    "        print(zuowen[index:])\n",
    "#         zuowen99.remove(zuowen)"
   ]
  },
  {
   "cell_type": "code",
   "execution_count": 938,
   "metadata": {},
   "outputs": [
    {
     "data": {
      "text/plain": [
       "0"
      ]
     },
     "execution_count": 938,
     "metadata": {},
     "output_type": "execute_result"
    }
   ],
   "source": [
    "num"
   ]
  },
  {
   "cell_type": "code",
   "execution_count": 939,
   "metadata": {},
   "outputs": [],
   "source": [
    "# 这里也没有这个问题，content没有nan的\n",
    "num = 0\n",
    "for zuowen in zhongkao:\n",
    "    if zuowen[8:11] == 'nan':\n",
    "        index = zuowen.find('pmid')\n",
    "        num+=1\n",
    "        print(zuowen[index:])\n",
    "#         zuowen99.remove(zuowen)"
   ]
  },
  {
   "cell_type": "code",
   "execution_count": 940,
   "metadata": {},
   "outputs": [
    {
     "data": {
      "text/plain": [
       "0"
      ]
     },
     "execution_count": 940,
     "metadata": {},
     "output_type": "execute_result"
    }
   ],
   "source": [
    "num"
   ]
  },
  {
   "cell_type": "code",
   "execution_count": 944,
   "metadata": {},
   "outputs": [],
   "source": [
    "import re\n",
    "import math\n",
    "new_zhongkao = []\n",
    "num = 0\n",
    "for zuowen in zhongkao:\n",
    "    zuowen.strip('\\n')\n",
    "\n",
    "    zuowen_dict = eval(zuowen)\n",
    "    content = zuowen_dict['abs']\n",
    "    title = zuowen_dict['title']\n",
    "    pmid = zuowen_dict['pmid']\n",
    "    \n",
    "    content_list = content.replace('\\n\\n','\\n').split('\\n')\n",
    "      \n",
    "    if (title in content_list[0]) and ('议论文' in content_list[0] or '范文' in content_list[0] or (len(content_list[0])-len(title)) < 5):\n",
    "        content_list = content_list[1:]\n",
    "    zuowen_dict['abs'] = content_list\n",
    "    new_zhongkao.append(zuowen_dict)    \n",
    " "
   ]
  },
  {
   "cell_type": "code",
   "execution_count": 946,
   "metadata": {},
   "outputs": [
    {
     "data": {
      "text/plain": [
       "{'abs': ['',\n",
       "  '在透过无数次失败后又成功的体验，使我明白了一个道理，成功的背后，还埋藏着无数的失败，下面，是我其中的一个体验。',\n",
       "  '十岁时，我依然是个什么都不会的小姑娘。十岁时的夏天，我在大树下玩耍，妈妈走过来，对我说：“没事的话就学自行车吧，会很方便的。”没办法，母名如天命，不可违。由于畏于妈妈的棍子，只好照办。我拉来了自行车，战战栗栗地上了车座。好不容易上去了，却和大地母亲来了个热烈的拥抱，而且这种行为持续了两次，我索性不起来了。我哭着闹着：“我不学了。”妈妈见了，走过来，拉我起来，拍拍我身上的灰尘，对我说：“尝到失败的苦头了?没事的，失败是成功之母。许多名人不都是从失败中走过来的吗?',\n",
       "  '成功的背后要凝聚着许多的汗水，加油吧!”我似懂非懂，但重新骑在了自行车上面，妈妈坐在了我的后面让我大胆的骑，让我想想前面就是成功和鲜花，他们在等着我，我大胆的骑起来，成功了，一步两步，我骑了起来。妈妈对我说：“孩子，你成功了，你没有辜负失败，你向成功迈进了一步。”这个时候，我无比的自豪。',\n",
       "  '是啊!鲜花，少不了“汗水”的灌溉，成功的背后，自然少不了许多的失败。失败是成功之母，又有多少人明白这句话真正的道理。让我们在风雨中前进!',\n",
       "  '欢迎使用手机、平板等移动设备访问中考网，2019中考一路陪伴同行！>>点击查看'],\n",
       " 'title': '成功的背后',\n",
       " 'pmid': '11814'}"
      ]
     },
     "execution_count": 946,
     "metadata": {},
     "output_type": "execute_result"
    }
   ],
   "source": [
    "new_zhongkao[0]"
   ]
  },
  {
   "cell_type": "code",
   "execution_count": 985,
   "metadata": {},
   "outputs": [],
   "source": [
    "contain = ['简评：','http:','初中议论文--','议论文作文--','议论文范文--','初中议论文作文--','更多议论文','初中议论文范文：','联系地址：','联系电话：','姓名：','初三:','初一:','初二:','班级：','班\\xa0','通讯地址：','邮编：','QQ：','qq：','邮箱：','七年级 ','八年级 ','九年级 ','初一：','初二：','初三：','初中一年级：','初中二年级：','七年级：','八年级：','九年级：','7年级：','8年级：','9年级：','初一:','初二:','初三:','中学\\xa0','初一：','初二：','初三：','作者：','年级：','班：','作者应','中七年级','中八年级','中九年级','初一 ','初二 ','初三 ','高一：','点评：','点评老师','点评教师：','教师：','指导老师：','辅导老师：','本文部分资料摘自互联网','学校：','邮政编码：']\n",
    "exact = ['','欢迎使用手机、平板等移动设备访问中考网，2019中考一路陪伴同行！>>点击查看','本文系本站用户原创文章，未经允许禁止转载！' ,'作文网专稿未经允许不得转载','本文系作文网（zuowen.com）用户原创文章，未经允许禁止转载！','作文网专稿 未经允许不得转载','E度网专稿 未经允许不得转载','E度作文网专稿\\xa0未经允许不得转载','E度作文网专稿 未经允许不得转载','E度网专稿未经允许不得转载','作文网专稿，未经允许不得转载']\n",
    "\n",
    "# 小荷作文网\n",
    "# 本文主题鲜明，感情强烈，蕴含哲理。\n",
    "# http：//www。telnote。cn/zuowen\n",
    "# '更多关于生活的作文', \n",
    "# '更多关于幸福的作文', "
   ]
  },
  {
   "cell_type": "markdown",
   "metadata": {},
   "source": [
    "#### 因为用的remove删除，以下删除操作都需要反复进行直到num=0 "
   ]
  },
  {
   "cell_type": "code",
   "execution_count": 988,
   "metadata": {},
   "outputs": [],
   "source": [
    "import copy\n",
    "num = 0\n",
    "for zuowen in new_zhongkao:\n",
    "    content = zuowen['abs']\n",
    "    stand_content = copy.deepcopy(content)\n",
    "    for con in contain:\n",
    "        for i in range(len(content)):\n",
    "            if con in content[i]:\n",
    "                num+=1\n",
    "                stand_content = stand_content[:i]+stand_content[i+1:]\n",
    "    zuowen['abs'] = stand_content"
   ]
  },
  {
   "cell_type": "code",
   "execution_count": 989,
   "metadata": {},
   "outputs": [
    {
     "data": {
      "text/plain": [
       "0"
      ]
     },
     "execution_count": 989,
     "metadata": {},
     "output_type": "execute_result"
    }
   ],
   "source": [
    "num"
   ]
  },
  {
   "cell_type": "code",
   "execution_count": 960,
   "metadata": {},
   "outputs": [],
   "source": [
    "import copy\n",
    "num = 0\n",
    "for zuowen in new_zhongkao:\n",
    "    content = zuowen['abs']\n",
    "    stand_content = copy.deepcopy(content)\n",
    "    if len(content) > 1:\n",
    "        if content[0] == zuowen['title']:\n",
    "            num+=1\n",
    "            stand_content = stand_content[:0]+stand_content[1:]\n",
    "    zuowen['abs'] = stand_content"
   ]
  },
  {
   "cell_type": "code",
   "execution_count": 961,
   "metadata": {},
   "outputs": [
    {
     "data": {
      "text/plain": [
       "0"
      ]
     },
     "execution_count": 961,
     "metadata": {},
     "output_type": "execute_result"
    }
   ],
   "source": [
    "num"
   ]
  },
  {
   "cell_type": "code",
   "execution_count": 956,
   "metadata": {},
   "outputs": [],
   "source": [
    "import copy\n",
    "num = 0\n",
    "for zuowen in new_zhongkao:\n",
    "    content = zuowen['abs']\n",
    "    stand_content = copy.deepcopy(content)\n",
    "    for ex in exact:\n",
    "        for i in range(len(content)):\n",
    "            if content[i] == ex:\n",
    "                num+=1\n",
    "                stand_content = stand_content[:i]+stand_content[i+1:]\n",
    "    zuowen['abs'] = stand_content"
   ]
  },
  {
   "cell_type": "code",
   "execution_count": 957,
   "metadata": {},
   "outputs": [
    {
     "data": {
      "text/plain": [
       "0"
      ]
     },
     "execution_count": 957,
     "metadata": {},
     "output_type": "execute_result"
    }
   ],
   "source": [
    "num"
   ]
  },
  {
   "cell_type": "code",
   "execution_count": 990,
   "metadata": {},
   "outputs": [],
   "source": [
    "with open('zhongkao_2.txt','w') as f:\n",
    "    for item in new_zhongkao:\n",
    "        f.write(str(item))\n",
    "        f.write('\\n')"
   ]
  },
  {
   "cell_type": "markdown",
   "metadata": {},
   "source": [
    "### 作文网的三个文件的清理过程和中考网一样，注意修改变量名和输出文件名即可"
   ]
  },
  {
   "cell_type": "markdown",
   "metadata": {},
   "source": [
    "### 但是在做完代码清理工作后还需要进行一定工作量的手动排查，因为有一些作文的多余内容情况实在特殊，还有一些"
   ]
  }
 ],
 "metadata": {
  "kernelspec": {
   "display_name": "Python 3",
   "language": "python",
   "name": "python3"
  },
  "language_info": {
   "codemirror_mode": {
    "name": "ipython",
    "version": 3
   },
   "file_extension": ".py",
   "mimetype": "text/x-python",
   "name": "python",
   "nbconvert_exporter": "python",
   "pygments_lexer": "ipython3",
   "version": "3.7.1"
  }
 },
 "nbformat": 4,
 "nbformat_minor": 2
}
