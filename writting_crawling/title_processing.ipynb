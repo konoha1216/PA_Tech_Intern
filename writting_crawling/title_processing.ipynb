{
 "cells": [
  {
   "cell_type": "markdown",
   "metadata": {},
   "source": [
    "# 数据清洗"
   ]
  },
  {
   "cell_type": "markdown",
   "metadata": {},
   "source": [
    "## 标题部分"
   ]
  },
  {
   "cell_type": "code",
   "execution_count": 1,
   "metadata": {},
   "outputs": [
    {
     "name": "stdout",
     "output_type": "stream",
     "text": [
      "/Users/konoha/Downloads/作文/zuowen\n"
     ]
    }
   ],
   "source": [
    "import os\n",
    "print(os.getcwd())"
   ]
  },
  {
   "cell_type": "code",
   "execution_count": 2,
   "metadata": {},
   "outputs": [],
   "source": [
    "import numpy as np\n",
    "import pandas as pd"
   ]
  },
  {
   "cell_type": "markdown",
   "metadata": {},
   "source": [
    "### 99作文网"
   ]
  },
  {
   "cell_type": "code",
   "execution_count": 4,
   "metadata": {},
   "outputs": [],
   "source": [
    "zuowen99 = pd.read_csv(\"zuowen99.csv\")"
   ]
  },
  {
   "cell_type": "code",
   "execution_count": 5,
   "metadata": {},
   "outputs": [
    {
     "data": {
      "text/html": [
       "<div>\n",
       "<style scoped>\n",
       "    .dataframe tbody tr th:only-of-type {\n",
       "        vertical-align: middle;\n",
       "    }\n",
       "\n",
       "    .dataframe tbody tr th {\n",
       "        vertical-align: top;\n",
       "    }\n",
       "\n",
       "    .dataframe thead th {\n",
       "        text-align: right;\n",
       "    }\n",
       "</style>\n",
       "<table border=\"1\" class=\"dataframe\">\n",
       "  <thead>\n",
       "    <tr style=\"text-align: right;\">\n",
       "      <th></th>\n",
       "      <th>title</th>\n",
       "      <th>content</th>\n",
       "    </tr>\n",
       "  </thead>\n",
       "  <tbody>\n",
       "    <tr>\n",
       "      <th>0</th>\n",
       "      <td>我心中的问号_优秀议论文800字&lt;/</td>\n",
       "      <td>\\r\\n年轻的心不懂世事的复杂，任一个个问号充满思考的空间，时间或许给出过一些回应，无数的疑...</td>\n",
       "    </tr>\n",
       "    <tr>\n",
       "      <th>1</th>\n",
       "      <td>宽容是一种爱_优秀议论文600字</td>\n",
       "      <td>\\r\\n冥冥之中两个人的情缘，仿佛一切早已都被安排好，有无缘份只能让你们自己感觉，自己把握，...</td>\n",
       "    </tr>\n",
       "    <tr>\n",
       "      <th>2</th>\n",
       "      <td>我写高考作文：水，女人和我</td>\n",
       "      <td>\\r\\n水加水仍然是水，可水加了盐成了盐水！\\r\\n世界上也许最好哄的人是女人，最不好哄的人...</td>\n",
       "    </tr>\n",
       "    <tr>\n",
       "      <th>3</th>\n",
       "      <td>谈“慷慨”与“吝啬”_初中议论文800字</td>\n",
       "      <td>\\r\\n；；时代在进步，社会也在进步，国家也正在进步。日复一日，年复一年，我们的祖国越来越好...</td>\n",
       "    </tr>\n",
       "    <tr>\n",
       "      <th>4</th>\n",
       "      <td>少年正是读书时_有关读书的议论文800字</td>\n",
       "      <td>\\r\\n一寸光阴一寸金，寸金难买寸光阴。人生几何，行事匆匆，因此每个阶段都应有它本身该做的事...</td>\n",
       "    </tr>\n",
       "  </tbody>\n",
       "</table>\n",
       "</div>"
      ],
      "text/plain": [
       "                  title                                            content\n",
       "0    我心中的问号_优秀议论文800字</  \\r\\n年轻的心不懂世事的复杂，任一个个问号充满思考的空间，时间或许给出过一些回应，无数的疑...\n",
       "1      宽容是一种爱_优秀议论文600字  \\r\\n冥冥之中两个人的情缘，仿佛一切早已都被安排好，有无缘份只能让你们自己感觉，自己把握，...\n",
       "2         我写高考作文：水，女人和我  \\r\\n水加水仍然是水，可水加了盐成了盐水！\\r\\n世界上也许最好哄的人是女人，最不好哄的人...\n",
       "3  谈“慷慨”与“吝啬”_初中议论文800字  \\r\\n；；时代在进步，社会也在进步，国家也正在进步。日复一日，年复一年，我们的祖国越来越好...\n",
       "4  少年正是读书时_有关读书的议论文800字  \\r\\n一寸光阴一寸金，寸金难买寸光阴。人生几何，行事匆匆，因此每个阶段都应有它本身该做的事..."
      ]
     },
     "execution_count": 5,
     "metadata": {},
     "output_type": "execute_result"
    }
   ],
   "source": [
    "zuowen99.head()"
   ]
  },
  {
   "cell_type": "code",
   "execution_count": 7,
   "metadata": {},
   "outputs": [
    {
     "data": {
      "text/plain": [
       "(3360, 2)"
      ]
     },
     "execution_count": 7,
     "metadata": {},
     "output_type": "execute_result"
    }
   ],
   "source": [
    "zuowen99.shape"
   ]
  },
  {
   "cell_type": "code",
   "execution_count": 143,
   "metadata": {},
   "outputs": [],
   "source": [
    "output = []\n",
    "for i in range(zuowen99.shape[0]):\n",
    "    output.append({'abs':zuowen99.loc[i,'content'],'title':zuowen99.loc[i,'title'],'pmid':str(i+1)})"
   ]
  },
  {
   "cell_type": "code",
   "execution_count": 144,
   "metadata": {},
   "outputs": [],
   "source": [
    "import copy\n",
    "pattern = re.compile('[0-9]+')\n",
    "new_title = []\n",
    "not_yet = []\n",
    "for zuowen in output:\n",
    "    flag = 0\n",
    "    cur_title = copy.deepcopy(zuowen['title'])\n",
    "    \n",
    "    index1 = cur_title.find('_')\n",
    "    if index1 != -1:\n",
    "        cur_title = cur_title[:index1]\n",
    "        flag = 1\n",
    "\n",
    "    index2 = cur_title.find('：')\n",
    "    if index2 != -1:\n",
    "        cur_title = cur_title[index2+1:]\n",
    "        flag = 1\n",
    "    \n",
    "    match1 = pattern.findall(cur_title)\n",
    "    if match1:\n",
    "        index3 = cur_title.find(match1[0])\n",
    "        cur_title = cur_title[:index3]\n",
    "        flag=1\n",
    "        \n",
    "    index4 = cur_title.find('</')\n",
    "    if index4 != -1:\n",
    "        cur_title = cur_title[:index4]\n",
    "        flag=1\n",
    "    \n",
    "    if '的作文' in cur_title:\n",
    "        cur_title = cur_title.replace('的作文','')\n",
    "        cur_title = cur_title.replace('关于','')\n",
    "        cur_title = cur_title.replace('以','')\n",
    "        cur_title = cur_title.replace('为话题','')\n",
    "    if '议论文' in cur_title:\n",
    "        cur_title = cur_title.replace('议论文','')\n",
    "    if '作文' in cur_title:\n",
    "        cur_title = cur_title.replace('作文','')\n",
    "    zuowen['title'] = cur_title\n",
    "    \n",
    "    # record the webpages which haven't been changed\n",
    "    if flag == 0:\n",
    "        not_yet.append(cur_title)\n",
    "    new_title.append(cur_title)"
   ]
  },
  {
   "cell_type": "code",
   "execution_count": 145,
   "metadata": {},
   "outputs": [],
   "source": [
    "with open('zuowen99_dict.txt','w') as f:\n",
    "    for dic in output:\n",
    "        f.write(str(dic))\n",
    "        f.write('\\n')"
   ]
  },
  {
   "cell_type": "markdown",
   "metadata": {},
   "source": [
    "## 作文网"
   ]
  },
  {
   "cell_type": "code",
   "execution_count": 157,
   "metadata": {},
   "outputs": [],
   "source": [
    "# the original webpage used gbk2312\n",
    "zuowenwang1 = pd.read_csv(\"zuowenwang1.csv\", encoding = 'gb18030')"
   ]
  },
  {
   "cell_type": "code",
   "execution_count": 158,
   "metadata": {},
   "outputs": [
    {
     "data": {
      "text/html": [
       "<div>\n",
       "<style scoped>\n",
       "    .dataframe tbody tr th:only-of-type {\n",
       "        vertical-align: middle;\n",
       "    }\n",
       "\n",
       "    .dataframe tbody tr th {\n",
       "        vertical-align: top;\n",
       "    }\n",
       "\n",
       "    .dataframe thead th {\n",
       "        text-align: right;\n",
       "    }\n",
       "</style>\n",
       "<table border=\"1\" class=\"dataframe\">\n",
       "  <thead>\n",
       "    <tr style=\"text-align: right;\">\n",
       "      <th></th>\n",
       "      <th>title</th>\n",
       "      <th>content</th>\n",
       "    </tr>\n",
       "  </thead>\n",
       "  <tbody>\n",
       "    <tr>\n",
       "      <th>0</th>\n",
       "      <td>初一议论文：关于考学和爱好_450字</td>\n",
       "      <td>\\n好好学习然后上大学找工作真的是唯一的出路吗？我的回答是：不是，但这是唯一一条可以靠努力实...</td>\n",
       "    </tr>\n",
       "    <tr>\n",
       "      <th>1</th>\n",
       "      <td>初一议论文：祖国在我心中_550字</td>\n",
       "      <td>\\n我的一生有两个母亲，一个是孕育我，养我的母亲，一个是我亲爱的祖国母亲。\\n\\n我们的祖国...</td>\n",
       "    </tr>\n",
       "    <tr>\n",
       "      <th>2</th>\n",
       "      <td>初一议论文：信用_700字</td>\n",
       "      <td>\\n民无信不立\\n\\n――题记\\n\\n在这个社会上想要立足最根本最重要的是什么呢？那就是信用...</td>\n",
       "    </tr>\n",
       "    <tr>\n",
       "      <th>3</th>\n",
       "      <td>初一议论文：阳光下成长_700字</td>\n",
       "      <td>\\n沐浴在阳光下，我享受着温暖。我喜欢阳光，因为它的给予；小草喜欢阳光，因为它的帮助；花儿喜...</td>\n",
       "    </tr>\n",
       "    <tr>\n",
       "      <th>4</th>\n",
       "      <td>初一议论文：论信仰_700字</td>\n",
       "      <td>\\n信仰，是一个人精神的寄托，也是一个人拼上性命也要维护的信念。\\n\\n――题记\\n\\n几乎...</td>\n",
       "    </tr>\n",
       "  </tbody>\n",
       "</table>\n",
       "</div>"
      ],
      "text/plain": [
       "                title                                            content\n",
       "0  初一议论文：关于考学和爱好_450字  \\n好好学习然后上大学找工作真的是唯一的出路吗？我的回答是：不是，但这是唯一一条可以靠努力实...\n",
       "1   初一议论文：祖国在我心中_550字  \\n我的一生有两个母亲，一个是孕育我，养我的母亲，一个是我亲爱的祖国母亲。\\n\\n我们的祖国...\n",
       "2       初一议论文：信用_700字  \\n民无信不立\\n\\n――题记\\n\\n在这个社会上想要立足最根本最重要的是什么呢？那就是信用...\n",
       "3    初一议论文：阳光下成长_700字  \\n沐浴在阳光下，我享受着温暖。我喜欢阳光，因为它的给予；小草喜欢阳光，因为它的帮助；花儿喜...\n",
       "4      初一议论文：论信仰_700字  \\n信仰，是一个人精神的寄托，也是一个人拼上性命也要维护的信念。\\n\\n――题记\\n\\n几乎..."
      ]
     },
     "execution_count": 158,
     "metadata": {},
     "output_type": "execute_result"
    }
   ],
   "source": [
    "zuowenwang1.head()"
   ]
  },
  {
   "cell_type": "code",
   "execution_count": 159,
   "metadata": {},
   "outputs": [
    {
     "data": {
      "text/plain": [
       "(2825, 2)"
      ]
     },
     "execution_count": 159,
     "metadata": {},
     "output_type": "execute_result"
    }
   ],
   "source": [
    "zuowenwang1.shape"
   ]
  },
  {
   "cell_type": "code",
   "execution_count": 196,
   "metadata": {},
   "outputs": [],
   "source": [
    "output2 = []\n",
    "for i in range(zuowenwang1.shape[0]):\n",
    "    output2.append({'abs':zuowenwang1.loc[i,'content'],'title':zuowenwang1.loc[i,'title'],'pmid':str(i+3361)})"
   ]
  },
  {
   "cell_type": "code",
   "execution_count": 198,
   "metadata": {},
   "outputs": [],
   "source": [
    "import copy\n",
    "new_title = []\n",
    "not_yet = []\n",
    "for zuowen in output2:\n",
    "    flag = 0\n",
    "    cur_title = copy.deepcopy(zuowen['title'])\n",
    "    \n",
    "    index1 = cur_title.find('_')\n",
    "    if index1 != -1:\n",
    "        cur_title = cur_title[:index1]\n",
    "        flag = 1\n",
    "\n",
    "    index2 = cur_title.find('：')\n",
    "    if index2 != -1:\n",
    "        cur_title = cur_title[index2+1:]\n",
    "        flag = 1\n",
    "    \n",
    "    zuowen['title'] = cur_title\n",
    "    \n",
    "    new_title.append(cur_title)"
   ]
  },
  {
   "cell_type": "code",
   "execution_count": 199,
   "metadata": {},
   "outputs": [],
   "source": [
    "# some contents are null, making the 'abs' value in dictionaries are 'float(nan)'\n",
    "import math\n",
    "num = 0\n",
    "for zuowen in output2:\n",
    "    try:\n",
    "        flag = math.isnan(zuowen['abs'])\n",
    "    except:\n",
    "        continue\n",
    "    else:\n",
    "        num+=1\n",
    "        output2.remove(zuowen)"
   ]
  },
  {
   "cell_type": "code",
   "execution_count": 204,
   "metadata": {},
   "outputs": [],
   "source": [
    "with open('zuowenwang1.txt','w') as f:\n",
    "    for dic in output2:\n",
    "        f.write(str(dic))\n",
    "        f.write('\\n')"
   ]
  },
  {
   "cell_type": "code",
   "execution_count": 218,
   "metadata": {},
   "outputs": [
    {
     "ename": "UnicodeDecodeError",
     "evalue": "'gb18030' codec can't decode byte 0xff in position 12: illegal multibyte sequence",
     "output_type": "error",
     "traceback": [
      "\u001b[0;31m---------------------------------------------------------------------------\u001b[0m",
      "\u001b[0;31mUnicodeDecodeError\u001b[0m                        Traceback (most recent call last)",
      "\u001b[0;32mpandas/_libs/parsers.pyx\u001b[0m in \u001b[0;36mpandas._libs.parsers.TextReader._convert_tokens\u001b[0;34m()\u001b[0m\n",
      "\u001b[0;32mpandas/_libs/parsers.pyx\u001b[0m in \u001b[0;36mpandas._libs.parsers.TextReader._convert_with_dtype\u001b[0;34m()\u001b[0m\n",
      "\u001b[0;32mpandas/_libs/parsers.pyx\u001b[0m in \u001b[0;36mpandas._libs.parsers.TextReader._string_convert\u001b[0;34m()\u001b[0m\n",
      "\u001b[0;32mpandas/_libs/parsers.pyx\u001b[0m in \u001b[0;36mpandas._libs.parsers._string_box_decode\u001b[0;34m()\u001b[0m\n",
      "\u001b[0;31mUnicodeDecodeError\u001b[0m: 'gb18030' codec can't decode byte 0xff in position 12: illegal multibyte sequence",
      "\nDuring handling of the above exception, another exception occurred:\n",
      "\u001b[0;31mUnicodeDecodeError\u001b[0m                        Traceback (most recent call last)",
      "\u001b[0;32m<ipython-input-218-fa3f8e490b56>\u001b[0m in \u001b[0;36m<module>\u001b[0;34m\u001b[0m\n\u001b[0;32m----> 1\u001b[0;31m \u001b[0mzuowenwang2\u001b[0m \u001b[0;34m=\u001b[0m \u001b[0mpd\u001b[0m\u001b[0;34m.\u001b[0m\u001b[0mread_csv\u001b[0m\u001b[0;34m(\u001b[0m\u001b[0;34m\"zuowenwang2.csv\"\u001b[0m\u001b[0;34m,\u001b[0m \u001b[0mencoding\u001b[0m \u001b[0;34m=\u001b[0m \u001b[0;34m'gb18030'\u001b[0m\u001b[0;34m)\u001b[0m\u001b[0;34m\u001b[0m\u001b[0;34m\u001b[0m\u001b[0m\n\u001b[0m",
      "\u001b[0;32m/anaconda3/lib/python3.7/site-packages/pandas/io/parsers.py\u001b[0m in \u001b[0;36mparser_f\u001b[0;34m(filepath_or_buffer, sep, delimiter, header, names, index_col, usecols, squeeze, prefix, mangle_dupe_cols, dtype, engine, converters, true_values, false_values, skipinitialspace, skiprows, nrows, na_values, keep_default_na, na_filter, verbose, skip_blank_lines, parse_dates, infer_datetime_format, keep_date_col, date_parser, dayfirst, iterator, chunksize, compression, thousands, decimal, lineterminator, quotechar, quoting, escapechar, comment, encoding, dialect, tupleize_cols, error_bad_lines, warn_bad_lines, skipfooter, doublequote, delim_whitespace, low_memory, memory_map, float_precision)\u001b[0m\n\u001b[1;32m    676\u001b[0m                     skip_blank_lines=skip_blank_lines)\n\u001b[1;32m    677\u001b[0m \u001b[0;34m\u001b[0m\u001b[0m\n\u001b[0;32m--> 678\u001b[0;31m         \u001b[0;32mreturn\u001b[0m \u001b[0m_read\u001b[0m\u001b[0;34m(\u001b[0m\u001b[0mfilepath_or_buffer\u001b[0m\u001b[0;34m,\u001b[0m \u001b[0mkwds\u001b[0m\u001b[0;34m)\u001b[0m\u001b[0;34m\u001b[0m\u001b[0;34m\u001b[0m\u001b[0m\n\u001b[0m\u001b[1;32m    679\u001b[0m \u001b[0;34m\u001b[0m\u001b[0m\n\u001b[1;32m    680\u001b[0m     \u001b[0mparser_f\u001b[0m\u001b[0;34m.\u001b[0m\u001b[0m__name__\u001b[0m \u001b[0;34m=\u001b[0m \u001b[0mname\u001b[0m\u001b[0;34m\u001b[0m\u001b[0;34m\u001b[0m\u001b[0m\n",
      "\u001b[0;32m/anaconda3/lib/python3.7/site-packages/pandas/io/parsers.py\u001b[0m in \u001b[0;36m_read\u001b[0;34m(filepath_or_buffer, kwds)\u001b[0m\n\u001b[1;32m    444\u001b[0m \u001b[0;34m\u001b[0m\u001b[0m\n\u001b[1;32m    445\u001b[0m     \u001b[0;32mtry\u001b[0m\u001b[0;34m:\u001b[0m\u001b[0;34m\u001b[0m\u001b[0;34m\u001b[0m\u001b[0m\n\u001b[0;32m--> 446\u001b[0;31m         \u001b[0mdata\u001b[0m \u001b[0;34m=\u001b[0m \u001b[0mparser\u001b[0m\u001b[0;34m.\u001b[0m\u001b[0mread\u001b[0m\u001b[0;34m(\u001b[0m\u001b[0mnrows\u001b[0m\u001b[0;34m)\u001b[0m\u001b[0;34m\u001b[0m\u001b[0;34m\u001b[0m\u001b[0m\n\u001b[0m\u001b[1;32m    447\u001b[0m     \u001b[0;32mfinally\u001b[0m\u001b[0;34m:\u001b[0m\u001b[0;34m\u001b[0m\u001b[0;34m\u001b[0m\u001b[0m\n\u001b[1;32m    448\u001b[0m         \u001b[0mparser\u001b[0m\u001b[0;34m.\u001b[0m\u001b[0mclose\u001b[0m\u001b[0;34m(\u001b[0m\u001b[0;34m)\u001b[0m\u001b[0;34m\u001b[0m\u001b[0;34m\u001b[0m\u001b[0m\n",
      "\u001b[0;32m/anaconda3/lib/python3.7/site-packages/pandas/io/parsers.py\u001b[0m in \u001b[0;36mread\u001b[0;34m(self, nrows)\u001b[0m\n\u001b[1;32m   1034\u001b[0m                 \u001b[0;32mraise\u001b[0m \u001b[0mValueError\u001b[0m\u001b[0;34m(\u001b[0m\u001b[0;34m'skipfooter not supported for iteration'\u001b[0m\u001b[0;34m)\u001b[0m\u001b[0;34m\u001b[0m\u001b[0;34m\u001b[0m\u001b[0m\n\u001b[1;32m   1035\u001b[0m \u001b[0;34m\u001b[0m\u001b[0m\n\u001b[0;32m-> 1036\u001b[0;31m         \u001b[0mret\u001b[0m \u001b[0;34m=\u001b[0m \u001b[0mself\u001b[0m\u001b[0;34m.\u001b[0m\u001b[0m_engine\u001b[0m\u001b[0;34m.\u001b[0m\u001b[0mread\u001b[0m\u001b[0;34m(\u001b[0m\u001b[0mnrows\u001b[0m\u001b[0;34m)\u001b[0m\u001b[0;34m\u001b[0m\u001b[0;34m\u001b[0m\u001b[0m\n\u001b[0m\u001b[1;32m   1037\u001b[0m \u001b[0;34m\u001b[0m\u001b[0m\n\u001b[1;32m   1038\u001b[0m         \u001b[0;31m# May alter columns / col_dict\u001b[0m\u001b[0;34m\u001b[0m\u001b[0;34m\u001b[0m\u001b[0;34m\u001b[0m\u001b[0m\n",
      "\u001b[0;32m/anaconda3/lib/python3.7/site-packages/pandas/io/parsers.py\u001b[0m in \u001b[0;36mread\u001b[0;34m(self, nrows)\u001b[0m\n\u001b[1;32m   1846\u001b[0m     \u001b[0;32mdef\u001b[0m \u001b[0mread\u001b[0m\u001b[0;34m(\u001b[0m\u001b[0mself\u001b[0m\u001b[0;34m,\u001b[0m \u001b[0mnrows\u001b[0m\u001b[0;34m=\u001b[0m\u001b[0;32mNone\u001b[0m\u001b[0;34m)\u001b[0m\u001b[0;34m:\u001b[0m\u001b[0;34m\u001b[0m\u001b[0;34m\u001b[0m\u001b[0m\n\u001b[1;32m   1847\u001b[0m         \u001b[0;32mtry\u001b[0m\u001b[0;34m:\u001b[0m\u001b[0;34m\u001b[0m\u001b[0;34m\u001b[0m\u001b[0m\n\u001b[0;32m-> 1848\u001b[0;31m             \u001b[0mdata\u001b[0m \u001b[0;34m=\u001b[0m \u001b[0mself\u001b[0m\u001b[0;34m.\u001b[0m\u001b[0m_reader\u001b[0m\u001b[0;34m.\u001b[0m\u001b[0mread\u001b[0m\u001b[0;34m(\u001b[0m\u001b[0mnrows\u001b[0m\u001b[0;34m)\u001b[0m\u001b[0;34m\u001b[0m\u001b[0;34m\u001b[0m\u001b[0m\n\u001b[0m\u001b[1;32m   1849\u001b[0m         \u001b[0;32mexcept\u001b[0m \u001b[0mStopIteration\u001b[0m\u001b[0;34m:\u001b[0m\u001b[0;34m\u001b[0m\u001b[0;34m\u001b[0m\u001b[0m\n\u001b[1;32m   1850\u001b[0m             \u001b[0;32mif\u001b[0m \u001b[0mself\u001b[0m\u001b[0;34m.\u001b[0m\u001b[0m_first_chunk\u001b[0m\u001b[0;34m:\u001b[0m\u001b[0;34m\u001b[0m\u001b[0;34m\u001b[0m\u001b[0m\n",
      "\u001b[0;32mpandas/_libs/parsers.pyx\u001b[0m in \u001b[0;36mpandas._libs.parsers.TextReader.read\u001b[0;34m()\u001b[0m\n",
      "\u001b[0;32mpandas/_libs/parsers.pyx\u001b[0m in \u001b[0;36mpandas._libs.parsers.TextReader._read_low_memory\u001b[0;34m()\u001b[0m\n",
      "\u001b[0;32mpandas/_libs/parsers.pyx\u001b[0m in \u001b[0;36mpandas._libs.parsers.TextReader._read_rows\u001b[0;34m()\u001b[0m\n",
      "\u001b[0;32mpandas/_libs/parsers.pyx\u001b[0m in \u001b[0;36mpandas._libs.parsers.TextReader._convert_column_data\u001b[0;34m()\u001b[0m\n",
      "\u001b[0;32mpandas/_libs/parsers.pyx\u001b[0m in \u001b[0;36mpandas._libs.parsers.TextReader._convert_tokens\u001b[0;34m()\u001b[0m\n",
      "\u001b[0;32mpandas/_libs/parsers.pyx\u001b[0m in \u001b[0;36mpandas._libs.parsers.TextReader._convert_with_dtype\u001b[0;34m()\u001b[0m\n",
      "\u001b[0;32mpandas/_libs/parsers.pyx\u001b[0m in \u001b[0;36mpandas._libs.parsers.TextReader._string_convert\u001b[0;34m()\u001b[0m\n",
      "\u001b[0;32mpandas/_libs/parsers.pyx\u001b[0m in \u001b[0;36mpandas._libs.parsers._string_box_decode\u001b[0;34m()\u001b[0m\n",
      "\u001b[0;31mUnicodeDecodeError\u001b[0m: 'gb18030' codec can't decode byte 0xff in position 12: illegal multibyte sequence"
     ]
    }
   ],
   "source": [
    "zuowenwang2 = pd.read_csv(\"zuowenwang2.csv\", encoding = 'gb18030')"
   ]
  },
  {
   "cell_type": "code",
   "execution_count": 219,
   "metadata": {},
   "outputs": [
    {
     "data": {
      "text/html": [
       "<div>\n",
       "<style scoped>\n",
       "    .dataframe tbody tr th:only-of-type {\n",
       "        vertical-align: middle;\n",
       "    }\n",
       "\n",
       "    .dataframe tbody tr th {\n",
       "        vertical-align: top;\n",
       "    }\n",
       "\n",
       "    .dataframe thead th {\n",
       "        text-align: right;\n",
       "    }\n",
       "</style>\n",
       "<table border=\"1\" class=\"dataframe\">\n",
       "  <thead>\n",
       "    <tr style=\"text-align: right;\">\n",
       "      <th></th>\n",
       "      <th>title</th>\n",
       "      <th>content</th>\n",
       "    </tr>\n",
       "  </thead>\n",
       "  <tbody>\n",
       "    <tr>\n",
       "      <th>0</th>\n",
       "      <td>初二议论文：初心_1000字</td>\n",
       "      <td>\\n同学们，大家好，我是梵声，你们可以叫我小梵，今天我要给大家讨论的主题是一初心。同学们，你...</td>\n",
       "    </tr>\n",
       "    <tr>\n",
       "      <th>1</th>\n",
       "      <td>初二议论文：拒绝邪教诱惑，共建美好生活_900字</td>\n",
       "      <td>\\n如今的我们生活在飞速发展的时代，科技让我们的社会更上一层阶梯，是我们通向美好生活的必要桥...</td>\n",
       "    </tr>\n",
       "    <tr>\n",
       "      <th>2</th>\n",
       "      <td>初二议论文：心_550字</td>\n",
       "      <td>\\n心是一个人最美好的地方“人之初，性本善”这人啊没有谁的心是黑色的，无非是看事对人罢了，但...</td>\n",
       "    </tr>\n",
       "    <tr>\n",
       "      <th>3</th>\n",
       "      <td>初二议论文：追梦_600字</td>\n",
       "      <td>\\n梦想每个人都有，或伟大，或平凡。当一个人真正有了一个梦想，那么这一生就不算白活，因为他有...</td>\n",
       "    </tr>\n",
       "    <tr>\n",
       "      <th>4</th>\n",
       "      <td>初二议论文：文明_750字</td>\n",
       "      <td>\\n“刺――”一个摩托车疾驰而过，后面一阵尘土飞扬。“呵――呸”一个人正吐了痰，慢悠悠的走了...</td>\n",
       "    </tr>\n",
       "  </tbody>\n",
       "</table>\n",
       "</div>"
      ],
      "text/plain": [
       "                      title                                            content\n",
       "0            初二议论文：初心_1000字  \\n同学们，大家好，我是梵声，你们可以叫我小梵，今天我要给大家讨论的主题是一初心。同学们，你...\n",
       "1  初二议论文：拒绝邪教诱惑，共建美好生活_900字  \\n如今的我们生活在飞速发展的时代，科技让我们的社会更上一层阶梯，是我们通向美好生活的必要桥...\n",
       "2              初二议论文：心_550字  \\n心是一个人最美好的地方“人之初，性本善”这人啊没有谁的心是黑色的，无非是看事对人罢了，但...\n",
       "3             初二议论文：追梦_600字  \\n梦想每个人都有，或伟大，或平凡。当一个人真正有了一个梦想，那么这一生就不算白活，因为他有...\n",
       "4             初二议论文：文明_750字  \\n“刺――”一个摩托车疾驰而过，后面一阵尘土飞扬。“呵――呸”一个人正吐了痰，慢悠悠的走了..."
      ]
     },
     "execution_count": 219,
     "metadata": {},
     "output_type": "execute_result"
    }
   ],
   "source": [
    "zuowenwang2.head()"
   ]
  },
  {
   "cell_type": "code",
   "execution_count": 208,
   "metadata": {},
   "outputs": [
    {
     "data": {
      "text/plain": [
       "(2833, 2)"
      ]
     },
     "execution_count": 208,
     "metadata": {},
     "output_type": "execute_result"
    }
   ],
   "source": [
    "zuowenwang2.shape"
   ]
  },
  {
   "cell_type": "code",
   "execution_count": 259,
   "metadata": {},
   "outputs": [],
   "source": [
    "output3 = []\n",
    "for i in range(zuowenwang2.shape[0]):\n",
    "    output3.append({'abs':zuowenwang2.loc[i,'content'],'title':zuowenwang2.loc[i,'title'],'pmid':str(i+6186)})"
   ]
  },
  {
   "cell_type": "code",
   "execution_count": null,
   "metadata": {},
   "outputs": [],
   "source": [
    "# some 'title' value in dictionaries are 'float(nan)'\n",
    "# we need to remove them first\n",
    "for zuowen in output3:\n",
    "    try:\n",
    "        flag = math.isnan(zuowen['title'])\n",
    "    except:\n",
    "        continue\n",
    "    else:\n",
    "        print(zuowen['pmid'])"
   ]
  },
  {
   "cell_type": "markdown",
   "metadata": {},
   "source": [
    "get the pmid then delete these two by index"
   ]
  },
  {
   "cell_type": "code",
   "execution_count": null,
   "metadata": {},
   "outputs": [],
   "source": [
    "output3.remove(output3[546])\n",
    "output3.remove(output3[929])"
   ]
  },
  {
   "cell_type": "code",
   "execution_count": 261,
   "metadata": {},
   "outputs": [],
   "source": [
    "import copy\n",
    "# pattern = re.compile('[0-9]+')\n",
    "new_title = []\n",
    "not_yet = []\n",
    "for zuowen in output3:\n",
    "    flag = 0\n",
    "    cur_title = copy.deepcopy(zuowen['title'])\n",
    "    \n",
    "    index1 = cur_title.find('_')\n",
    "    if index1 != -1:\n",
    "        cur_title = cur_title[:index1]\n",
    "        flag = 1\n",
    "\n",
    "    index2 = cur_title.find('：')\n",
    "    if index2 != -1:\n",
    "        cur_title = cur_title[index2+1:]\n",
    "        flag = 1\n",
    "    \n",
    "    cur_title = cur_title.replace('[议论文]','')\n",
    "    cur_title = cur_title.replace('【','“')\n",
    "    cur_title = cur_title.replace('】','”')\n",
    "    zuowen['title'] = cur_title\n",
    "    \n",
    "    if flag == 0:\n",
    "        not_yet.append(cur_title)\n",
    "    new_title.append(cur_title)\n"
   ]
  },
  {
   "cell_type": "code",
   "execution_count": 264,
   "metadata": {},
   "outputs": [],
   "source": [
    "import math\n",
    "num = 0\n",
    "for zuowen in output3:\n",
    "    try:\n",
    "        flag = math.isnan(zuowen['abs'])\n",
    "    except:\n",
    "        continue\n",
    "    else:\n",
    "        num+=1\n",
    "        output3.remove(zuowen)\n",
    "# math.isnan(output2[453]['abs'])"
   ]
  },
  {
   "cell_type": "code",
   "execution_count": 267,
   "metadata": {},
   "outputs": [
    {
     "data": {
      "text/plain": [
       "15"
      ]
     },
     "execution_count": 267,
     "metadata": {},
     "output_type": "execute_result"
    }
   ],
   "source": [
    "num"
   ]
  },
  {
   "cell_type": "code",
   "execution_count": 269,
   "metadata": {},
   "outputs": [],
   "source": [
    "with open('zuowenwang2.txt','w') as f:\n",
    "    for dic in output3:\n",
    "        f.write(str(dic))\n",
    "        f.write('\\n')"
   ]
  },
  {
   "cell_type": "code",
   "execution_count": 270,
   "metadata": {},
   "outputs": [],
   "source": [
    "zuowenwang3 = pd.read_csv(\"zuowenwang3.csv\", encoding = 'gb18030')"
   ]
  },
  {
   "cell_type": "code",
   "execution_count": 272,
   "metadata": {},
   "outputs": [
    {
     "data": {
      "text/plain": [
       "(2795, 2)"
      ]
     },
     "execution_count": 272,
     "metadata": {},
     "output_type": "execute_result"
    }
   ],
   "source": [
    "zuowenwang3.shape"
   ]
  },
  {
   "cell_type": "code",
   "execution_count": 273,
   "metadata": {},
   "outputs": [
    {
     "data": {
      "text/html": [
       "<div>\n",
       "<style scoped>\n",
       "    .dataframe tbody tr th:only-of-type {\n",
       "        vertical-align: middle;\n",
       "    }\n",
       "\n",
       "    .dataframe tbody tr th {\n",
       "        vertical-align: top;\n",
       "    }\n",
       "\n",
       "    .dataframe thead th {\n",
       "        text-align: right;\n",
       "    }\n",
       "</style>\n",
       "<table border=\"1\" class=\"dataframe\">\n",
       "  <thead>\n",
       "    <tr style=\"text-align: right;\">\n",
       "      <th></th>\n",
       "      <th>title</th>\n",
       "      <th>content</th>\n",
       "    </tr>\n",
       "  </thead>\n",
       "  <tbody>\n",
       "    <tr>\n",
       "      <th>0</th>\n",
       "      <td>初三议论文：乐观地生活_650字</td>\n",
       "      <td>\\n随着科技的发展，人们生活水平的提高，越来越多的人开始追求完美，创造自己的美好生活。但每个...</td>\n",
       "    </tr>\n",
       "    <tr>\n",
       "      <th>1</th>\n",
       "      <td>初三议论文：纵横捭阖，进退自如。_550字</td>\n",
       "      <td>\\n人生并不是非对即错，所有的，都能相互制衡转化，世界充满了复杂，但是愿你能在人生纵横捭阖，...</td>\n",
       "    </tr>\n",
       "    <tr>\n",
       "      <th>2</th>\n",
       "      <td>初三议论文：细节决定成败_550字</td>\n",
       "      <td>\\n古往今来，不论是战场上还是官场上亦或是职场上，不论何时，不论何地，不论何人，最终或成或败...</td>\n",
       "    </tr>\n",
       "    <tr>\n",
       "      <th>3</th>\n",
       "      <td>初三议论文：论抄袭_900字</td>\n",
       "      <td>\\n抄袭现象在现在信息发达的社会并不少见，特别是作文抄袭。我曾在百度上搜索了抄袭这一词――抄...</td>\n",
       "    </tr>\n",
       "    <tr>\n",
       "      <th>4</th>\n",
       "      <td>初三议论文：处世一如芳华_650字</td>\n",
       "      <td>\\n看过苹果公司的产品，和其他前列公司，只觉得都有一种纯粹的简单，反复比对，越是简单不失大气...</td>\n",
       "    </tr>\n",
       "  </tbody>\n",
       "</table>\n",
       "</div>"
      ],
      "text/plain": [
       "                   title                                            content\n",
       "0       初三议论文：乐观地生活_650字  \\n随着科技的发展，人们生活水平的提高，越来越多的人开始追求完美，创造自己的美好生活。但每个...\n",
       "1  初三议论文：纵横捭阖，进退自如。_550字  \\n人生并不是非对即错，所有的，都能相互制衡转化，世界充满了复杂，但是愿你能在人生纵横捭阖，...\n",
       "2      初三议论文：细节决定成败_550字  \\n古往今来，不论是战场上还是官场上亦或是职场上，不论何时，不论何地，不论何人，最终或成或败...\n",
       "3         初三议论文：论抄袭_900字  \\n抄袭现象在现在信息发达的社会并不少见，特别是作文抄袭。我曾在百度上搜索了抄袭这一词――抄...\n",
       "4      初三议论文：处世一如芳华_650字  \\n看过苹果公司的产品，和其他前列公司，只觉得都有一种纯粹的简单，反复比对，越是简单不失大气..."
      ]
     },
     "execution_count": 273,
     "metadata": {},
     "output_type": "execute_result"
    }
   ],
   "source": [
    "zuowenwang3.head()"
   ]
  },
  {
   "cell_type": "code",
   "execution_count": 277,
   "metadata": {},
   "outputs": [],
   "source": [
    "output4 = []\n",
    "for i in range(zuowenwang3.shape[0]):\n",
    "    output4.append({'abs':zuowenwang3.loc[i,'content'],'title':zuowenwang3.loc[i,'title'],'pmid':str(i+9019)})"
   ]
  },
  {
   "cell_type": "code",
   "execution_count": 278,
   "metadata": {},
   "outputs": [],
   "source": [
    "for zuowen in output4:\n",
    "    try:\n",
    "        flag = math.isnan(zuowen['title'])\n",
    "    except:\n",
    "        continue\n",
    "    else:\n",
    "        print(zuowen['pmid'])"
   ]
  },
  {
   "cell_type": "markdown",
   "metadata": {},
   "source": [
    "same deleteing work as we did in zuowenwang2"
   ]
  },
  {
   "cell_type": "code",
   "execution_count": 279,
   "metadata": {},
   "outputs": [],
   "source": [
    "import copy\n",
    "# pattern = re.compile('[0-9]+')\n",
    "new_title = []\n",
    "not_yet = []\n",
    "for zuowen in output4:\n",
    "    flag = 0\n",
    "    cur_title = copy.deepcopy(zuowen['title'])\n",
    "    \n",
    "    index1 = cur_title.find('_')\n",
    "    if index1 != -1:\n",
    "        cur_title = cur_title[:index1]\n",
    "        flag = 1\n",
    "\n",
    "    index2 = cur_title.find('：')\n",
    "    if index2 != -1:\n",
    "        cur_title = cur_title[index2+1:]\n",
    "        flag = 1\n",
    "    \n",
    "    cur_title = cur_title.replace('[议论文]','')\n",
    "    cur_title = cur_title.replace('【','“')\n",
    "    cur_title = cur_title.replace('】','”')\n",
    "    zuowen['title'] = cur_title\n",
    "    \n",
    "    if flag == 0:\n",
    "        not_yet.append(cur_title)\n",
    "    new_title.append(cur_title)\n"
   ]
  },
  {
   "cell_type": "code",
   "execution_count": 284,
   "metadata": {},
   "outputs": [],
   "source": [
    "import math\n",
    "num = 0\n",
    "for zuowen in output4:\n",
    "    try:\n",
    "        flag = math.isnan(zuowen['abs'])\n",
    "    except:\n",
    "        continue\n",
    "    else:\n",
    "        num+=1\n",
    "        output4.remove(zuowen)\n",
    "# math.isnan(output2[453]['abs'])"
   ]
  },
  {
   "cell_type": "code",
   "execution_count": 285,
   "metadata": {},
   "outputs": [],
   "source": [
    "with open('zuowenwang3.txt','w') as f:\n",
    "    for dic in output4:\n",
    "        f.write(str(dic))\n",
    "        f.write('\\n')"
   ]
  },
  {
   "cell_type": "markdown",
   "metadata": {},
   "source": [
    "## 中考网"
   ]
  },
  {
   "cell_type": "code",
   "execution_count": 286,
   "metadata": {},
   "outputs": [],
   "source": [
    "zhongkao = pd.read_csv(\"zhongkao.csv\", encoding = 'gb18030')"
   ]
  },
  {
   "cell_type": "code",
   "execution_count": 287,
   "metadata": {},
   "outputs": [
    {
     "data": {
      "text/html": [
       "<div>\n",
       "<style scoped>\n",
       "    .dataframe tbody tr th:only-of-type {\n",
       "        vertical-align: middle;\n",
       "    }\n",
       "\n",
       "    .dataframe tbody tr th {\n",
       "        vertical-align: top;\n",
       "    }\n",
       "\n",
       "    .dataframe thead th {\n",
       "        text-align: right;\n",
       "    }\n",
       "</style>\n",
       "<table border=\"1\" class=\"dataframe\">\n",
       "  <thead>\n",
       "    <tr style=\"text-align: right;\">\n",
       "      <th></th>\n",
       "      <th>title</th>\n",
       "      <th>content</th>\n",
       "    </tr>\n",
       "  </thead>\n",
       "  <tbody>\n",
       "    <tr>\n",
       "      <th>0</th>\n",
       "      <td>初中议论文范文：成功的背后议论文&lt;3&gt;</td>\n",
       "      <td>\\n在透过无数次失败后又成功的体验，使我明白了一个道理，成功的背后，还埋藏着无数的失败，下面...</td>\n",
       "    </tr>\n",
       "    <tr>\n",
       "      <th>1</th>\n",
       "      <td>初中议论文范文：成功的背后议论文&lt;2&gt;</td>\n",
       "      <td>\\n当人们看到河川的奔腾雄姿时，人们可曾想过当它还是溪流时的坎坷慢行;当人们看到流星的闪耀时...</td>\n",
       "    </tr>\n",
       "    <tr>\n",
       "      <th>2</th>\n",
       "      <td>初中议论文范文：成功的背后议论文&lt;1&gt;</td>\n",
       "      <td>\\n我们总是感叹他人的成就，却往往忽略他成功的背后所付出的汗水，忽略他们如何走到世界的顶峰。...</td>\n",
       "    </tr>\n",
       "    <tr>\n",
       "      <th>3</th>\n",
       "      <td>初中议论文范文：人生漫漫坎坷路议论文【3】</td>\n",
       "      <td>\\n在众多的饮料中，我最喜欢的便是咖啡，咖啡与别的饮料不同。他不像白开水那样无味无色，不像可...</td>\n",
       "    </tr>\n",
       "    <tr>\n",
       "      <th>4</th>\n",
       "      <td>初中议论文范文：人生漫漫坎坷路议论文【2】</td>\n",
       "      <td>\\n困难每个人都会遇到，但并不可怕的，只要用心的去克服是一定会战胜它的。我们从小到大都是一步...</td>\n",
       "    </tr>\n",
       "  </tbody>\n",
       "</table>\n",
       "</div>"
      ],
      "text/plain": [
       "                   title                                            content\n",
       "0    初中议论文范文：成功的背后议论文<3>  \\n在透过无数次失败后又成功的体验，使我明白了一个道理，成功的背后，还埋藏着无数的失败，下面...\n",
       "1    初中议论文范文：成功的背后议论文<2>  \\n当人们看到河川的奔腾雄姿时，人们可曾想过当它还是溪流时的坎坷慢行;当人们看到流星的闪耀时...\n",
       "2    初中议论文范文：成功的背后议论文<1>  \\n我们总是感叹他人的成就，却往往忽略他成功的背后所付出的汗水，忽略他们如何走到世界的顶峰。...\n",
       "3  初中议论文范文：人生漫漫坎坷路议论文【3】  \\n在众多的饮料中，我最喜欢的便是咖啡，咖啡与别的饮料不同。他不像白开水那样无味无色，不像可...\n",
       "4  初中议论文范文：人生漫漫坎坷路议论文【2】  \\n困难每个人都会遇到，但并不可怕的，只要用心的去克服是一定会战胜它的。我们从小到大都是一步..."
      ]
     },
     "execution_count": 287,
     "metadata": {},
     "output_type": "execute_result"
    }
   ],
   "source": [
    "zhongkao.head()"
   ]
  },
  {
   "cell_type": "code",
   "execution_count": 288,
   "metadata": {},
   "outputs": [
    {
     "data": {
      "text/plain": [
       "(1266, 2)"
      ]
     },
     "execution_count": 288,
     "metadata": {},
     "output_type": "execute_result"
    }
   ],
   "source": [
    "zhongkao.shape"
   ]
  },
  {
   "cell_type": "code",
   "execution_count": 342,
   "metadata": {},
   "outputs": [],
   "source": [
    "output5 = []\n",
    "for i in range(zhongkao.shape[0]):\n",
    "    output5.append({'abs':zhongkao.loc[i,'content'],'title':zhongkao.loc[i,'title'],'pmid':str(i+11814)})"
   ]
  },
  {
   "cell_type": "code",
   "execution_count": 291,
   "metadata": {},
   "outputs": [],
   "source": [
    "for zuowen in output5:\n",
    "    try:\n",
    "        flag = math.isnan(zuowen['title'])\n",
    "    except:\n",
    "        continue\n",
    "    else:\n",
    "        print(zuowen['pmid'])"
   ]
  },
  {
   "cell_type": "code",
   "execution_count": 299,
   "metadata": {},
   "outputs": [],
   "source": [
    "# over half of the crawled writtings are without contents\n",
    "num = 0\n",
    "for zuowen in output5:\n",
    "    try:\n",
    "        flag = math.isnan(zuowen['abs'])\n",
    "    except:\n",
    "        if len(zuowen['abs'])<100:\n",
    "            num+=1\n",
    "    else:\n",
    "        num+=1"
   ]
  },
  {
   "cell_type": "code",
   "execution_count": 300,
   "metadata": {},
   "outputs": [
    {
     "data": {
      "text/plain": [
       "777"
      ]
     },
     "execution_count": 300,
     "metadata": {},
     "output_type": "execute_result"
    }
   ],
   "source": [
    "num"
   ]
  },
  {
   "cell_type": "code",
   "execution_count": 297,
   "metadata": {},
   "outputs": [
    {
     "data": {
      "text/plain": [
       "{'abs': '\\n欢迎使用手机、平板等移动设备访问中考网，2019中考一路陪伴同行！>>点击查看',\n",
       " 'title': '初中议论文范文：学会接纳别人500字',\n",
       " 'pmid': '12150'}"
      ]
     },
     "execution_count": 297,
     "metadata": {},
     "output_type": "execute_result"
    }
   ],
   "source": [
    "output5[336]"
   ]
  },
  {
   "cell_type": "code",
   "execution_count": 343,
   "metadata": {},
   "outputs": [],
   "source": [
    "import copy\n",
    "# pattern = re.compile('[0-9]+')\n",
    "new_title = []\n",
    "not_yet = []\n",
    "for zuowen in output5:\n",
    "    flag = 0\n",
    "    cur_title = copy.deepcopy(zuowen['title'])\n",
    "    \n",
    "    index1 = cur_title.find('：')\n",
    "    if index1 != -1:\n",
    "        cur_title = cur_title[index1+1:]\n",
    "        flag = 1\n",
    "    \n",
    "    index2 = cur_title.find(':')\n",
    "    if index2 != -1:\n",
    "        cur_title = cur_title[index2+1:]\n",
    "        flag = 1\n",
    "        \n",
    "    index3 = cur_title.find('--')\n",
    "    if index3 != -1:\n",
    "        cur_title = cur_title[index3+2:]\n",
    "        flag = 1\n",
    "    \n",
    "    index4 = cur_title.find('议论文')\n",
    "    if index4 != -1:\n",
    "        cur_title = cur_title[:index4]\n",
    "        flag = 1\n",
    "    \n",
    "    match1 = pattern.findall(cur_title)\n",
    "    if match1:\n",
    "        index3 = cur_title.find(match1[0])\n",
    "        cur_title = cur_title[:index3]\n",
    "        flag=1\n",
    "\n",
    "    cur_title = cur_title.replace('（','')\n",
    "    zuowen['title'] = cur_title\n",
    "    \n",
    "    if flag == 0:\n",
    "        not_yet.append(cur_title)\n",
    "    new_title.append(cur_title)\n"
   ]
  },
  {
   "cell_type": "code",
   "execution_count": 346,
   "metadata": {},
   "outputs": [],
   "source": [
    "# three writtings are without titles after the processing, need to add them manually\n",
    "num = 0\n",
    "for title in new_title:\n",
    "    if title == '':\n",
    "        num+=1"
   ]
  },
  {
   "cell_type": "code",
   "execution_count": 341,
   "metadata": {},
   "outputs": [
    {
     "data": {
      "text/plain": [
       "3"
      ]
     },
     "execution_count": 341,
     "metadata": {},
     "output_type": "execute_result"
    }
   ],
   "source": [
    "num"
   ]
  },
  {
   "cell_type": "code",
   "execution_count": 348,
   "metadata": {},
   "outputs": [],
   "source": [
    "import math\n",
    "num = 0\n",
    "for zuowen in output5:\n",
    "    try:\n",
    "        flag = math.isnan(zuowen['abs'])\n",
    "    except:\n",
    "        continue\n",
    "    else:\n",
    "        num+=1\n",
    "        output5.remove(zuowen)"
   ]
  },
  {
   "cell_type": "code",
   "execution_count": 349,
   "metadata": {},
   "outputs": [
    {
     "data": {
      "text/plain": [
       "37"
      ]
     },
     "execution_count": 349,
     "metadata": {},
     "output_type": "execute_result"
    }
   ],
   "source": [
    "num"
   ]
  },
  {
   "cell_type": "code",
   "execution_count": 350,
   "metadata": {},
   "outputs": [
    {
     "data": {
      "text/plain": [
       "1229"
      ]
     },
     "execution_count": 350,
     "metadata": {},
     "output_type": "execute_result"
    }
   ],
   "source": [
    "len(output5)"
   ]
  },
  {
   "cell_type": "code",
   "execution_count": 380,
   "metadata": {},
   "outputs": [],
   "source": [
    "num = 0\n",
    "for zuowen in output5:\n",
    "    if zuowen['abs'] == '\\n欢迎使用手机、平板等移动设备访问中考网，2019中考一路陪伴同行！>>点击查看':\n",
    "        num+=1\n",
    "        output5.remove(zuowen)"
   ]
  },
  {
   "cell_type": "code",
   "execution_count": 381,
   "metadata": {},
   "outputs": [
    {
     "data": {
      "text/plain": [
       "0"
      ]
     },
     "execution_count": 381,
     "metadata": {},
     "output_type": "execute_result"
    }
   ],
   "source": [
    "num"
   ]
  },
  {
   "cell_type": "code",
   "execution_count": 382,
   "metadata": {},
   "outputs": [
    {
     "data": {
      "text/plain": [
       "499"
      ]
     },
     "execution_count": 382,
     "metadata": {},
     "output_type": "execute_result"
    }
   ],
   "source": [
    "len(output5)"
   ]
  },
  {
   "cell_type": "code",
   "execution_count": 384,
   "metadata": {},
   "outputs": [],
   "source": [
    "with open('zhongkao.txt','w') as f:\n",
    "    for dic in output5:\n",
    "        f.write(str(dic))\n",
    "        f.write('\\n')"
   ]
  },
  {
   "cell_type": "markdown",
   "metadata": {},
   "source": [
    "## we need to do some manual changes on the processed writting dicts(about 10-20 in sum), for they are unique. The final processed results are stored in the `writtingInDictionary.txt` file"
   ]
  }
 ],
 "metadata": {
  "kernelspec": {
   "display_name": "Python 3",
   "language": "python",
   "name": "python3"
  },
  "language_info": {
   "codemirror_mode": {
    "name": "ipython",
    "version": 3
   },
   "file_extension": ".py",
   "mimetype": "text/x-python",
   "name": "python",
   "nbconvert_exporter": "python",
   "pygments_lexer": "ipython3",
   "version": "3.7.1"
  }
 },
 "nbformat": 4,
 "nbformat_minor": 2
}
